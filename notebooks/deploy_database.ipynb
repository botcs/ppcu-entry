{
 "cells": [
  {
   "cell_type": "code",
   "execution_count": null,
   "metadata": {},
   "outputs": [],
   "source": [
    "import torch\n",
    "import numpy as np\n",
    "from PIL import Image\n",
    "from utils import send_query, send_large_query\n"
   ]
  },
  {
   "cell_type": "code",
   "execution_count": null,
   "metadata": {},
   "outputs": [],
   "source": [
    "embedding_database = torch.load('ALIGNED_EMBEDDING_DATABASE.pth')\n",
    "all_paths = embedding_database['paths']\n",
    "all_embs = embedding_database['embeddings']"
   ]
  },
  {
   "cell_type": "code",
   "execution_count": null,
   "metadata": {},
   "outputs": [],
   "source": [
    "SQL_QUERY = \"\"\"\n",
    "    SELECT shibboleth, card_ID, aligned_ID\n",
    "    FROM aligned\n",
    "    JOIN user ON user.user_ID=aligned.user_ID;\n",
    "\"\"\"\n",
    "query_result = send_query(SQL_QUERY)\n",
    "query_names = [q['shibboleth'] for q in query_result]\n",
    "query_cards = [q['card_ID'] for q in query_result]\n",
    "query_idxs = [int(q['aligned_ID'])-1 for q in query_result]\n"
   ]
  },
  {
   "cell_type": "code",
   "execution_count": null,
   "metadata": {},
   "outputs": [],
   "source": [
    "# Putting some negative samples in the database as well\n",
    "num_neg = 20000\n",
    "negative_idxs = np.random.randint(0, len(all_embs), num_neg).tolist()\n",
    "# Remove false negatives\n",
    "negative_idxs = list(set(negative_idxs) - set(query_idxs))\n",
    "num_neg = len(negative_idxs)\n",
    "negative_names = ['<UNK>' for _ in range(num_neg)]\n",
    "negative_cards = ['<UNK>' for _ in range(num_neg)]\n"
   ]
  },
  {
   "cell_type": "code",
   "execution_count": null,
   "metadata": {},
   "outputs": [],
   "source": [
    "deploy_names = query_names + negative_names\n",
    "deploy_cards = query_cards + negative_cards\n",
    "deploy_idxs = query_idxs + negative_idxs\n",
    "deploy_embs = all_embs[deploy_idxs]\n",
    "\n",
    "deploy_database = {\n",
    "    'names': deploy_names,\n",
    "    'cards': deploy_cards,\n",
    "    'embeddings': deploy_embs\n",
    "}\n",
    "\n",
    "torch.save(deploy_database, 'DEPLOY_DATABASE.tar')"
   ]
  },
  {
   "cell_type": "code",
   "execution_count": null,
   "metadata": {},
   "outputs": [],
   "source": []
  }
 ],
 "metadata": {
  "kernelspec": {
   "display_name": "Python 3",
   "language": "python",
   "name": "python3"
  }
 },
 "nbformat": 4,
 "nbformat_minor": 2
}
