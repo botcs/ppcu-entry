{
 "cells": [
  {
   "cell_type": "code",
   "execution_count": null,
   "metadata": {},
   "outputs": [],
   "source": [
    "from __future__ import print_function\n",
    "import argparse\n",
    "import os\n",
    "import shutil\n",
    "import torch\n",
    "import torch.nn as nn\n",
    "import torch.nn.functional as F\n",
    "import torch.optim as optim\n",
    "from torchvision import datasets, transforms, models\n",
    "from torch.autograd import Variable\n",
    "import torch.backends.cudnn as cudnn\n",
    "from utils.triplet_image_loader import TripletImageLoader\n",
    "from utils.openface import prepareOpenFace\n",
    "from tripletnet import Tripletnet\n",
    "from visdom import Visdom\n",
    "import numpy as np\n",
    "import dlib\n",
    "from PIL import Image"
   ]
  },
  {
   "cell_type": "code",
   "execution_count": null,
   "metadata": {},
   "outputs": [],
   "source": [
    "os.environ['CUDA_VISIBLE_DEVICES'] = '1'"
   ]
  },
  {
   "cell_type": "code",
   "execution_count": null,
   "metadata": {},
   "outputs": [],
   "source": [
    "test_loader = torch.utils.data.DataLoader(\n",
    "    TripletImageLoader(\n",
    "        'name_thumbPaths_test.csv', \n",
    "        transform=transforms.Compose([\n",
    "            transforms.Resize(96),\n",
    "            transforms.CenterCrop(96),\n",
    "            transforms.ToTensor(),\n",
    "        ]), \n",
    "        triplets_per_individual = 100\n",
    "    ),\n",
    "    batch_size=200, num_workers=12)"
   ]
  },
  {
   "cell_type": "code",
   "execution_count": null,
   "metadata": {},
   "outputs": [],
   "source": [
    "class Net(nn.Module):\n",
    "    def __init__(self):\n",
    "        super(Net, self).__init__()\n",
    "        self.features = models.squeezenet1_1().features\n",
    "        self.embedding = nn.Sequential(\n",
    "            nn.Linear(2048, 512),\n",
    "            nn.Dropout(),\n",
    "            nn.ReLU(),\n",
    "            nn.Linear(512, 128)\n",
    "        )\n",
    "\n",
    "    def forward(self, x):\n",
    "        x = self.features(x)\n",
    "        x = nn.functional.adaptive_max_pool2d(x, 2)\n",
    "        batch_size = x.size(0)\n",
    "        x = x.view(batch_size, -1)\n",
    "        x = self.embedding(x)\n",
    "        return x"
   ]
  },
  {
   "cell_type": "code",
   "execution_count": null,
   "metadata": {},
   "outputs": [],
   "source": [
    "net = Net()\n",
    "net.load_state_dict(torch.load('runs/TripletNet/model_best.pth.tar')['state_dict'])\n",
    "if torch.cuda.is_available():\n",
    "    net.cuda()\n",
    "\n",
    "margin = .5"
   ]
  },
  {
   "cell_type": "code",
   "execution_count": null,
   "metadata": {},
   "outputs": [],
   "source": [
    "test_iter = iter(test_loader)"
   ]
  },
  {
   "cell_type": "code",
   "execution_count": null,
   "metadata": {},
   "outputs": [],
   "source": [
    "def normalize(x):\n",
    "    return x / x.norm(2, dim=1, keepdim=True)"
   ]
  },
  {
   "cell_type": "code",
   "execution_count": null,
   "metadata": {},
   "outputs": [],
   "source": [
    "# switch to evaluation mode\n",
    "net.eval()\n",
    "anchor, positive, negative = next(test_iter)\n",
    "\n",
    "if torch.cuda.is_available():\n",
    "    anchor, positive, negative = anchor.cuda(), positive.cuda(), negative.cuda()\n",
    "anchor = Variable(anchor, volatile=True)\n",
    "positive = Variable(positive, volatile=True)\n",
    "negative = Variable(negative, volatile=True)\n",
    "\n",
    "# compute output\n",
    "embedded_anchor = net(anchor)\n",
    "embedded_positive = net(positive)\n",
    "embedded_negative = net(negative)\n",
    "\n",
    "# normalize embeddings\n",
    "norm_anc = normalize(embedded_anchor)\n",
    "norm_pos = normalize(embedded_positive)\n",
    "norm_neg = normalize(embedded_negative)\n",
    "\n",
    "\n",
    "sim = torch.nn.CosineSimilarity(dim=1)\n",
    "correct_similarity = sim(norm_anc, norm_pos)\n",
    "wrong_similarity = sim(norm_anc, norm_neg)\n",
    "\n",
    "pdist = nn.PairwiseDistance(p=2)\n",
    "euc_pos = pdist(norm_anc, norm_pos)\n",
    "euc_neg = pdist(norm_anc, norm_neg)"
   ]
  },
  {
   "cell_type": "code",
   "execution_count": null,
   "metadata": {},
   "outputs": [],
   "source": [
    "# This should be equal...\n",
    "euc_pos.squeeze() - (2 - 2*correct_similarity)"
   ]
  },
  {
   "cell_type": "code",
   "execution_count": null,
   "metadata": {},
   "outputs": [],
   "source": [
    "def countCosineCorrect(margin):\n",
    "    true_pos = (correct_similarity > margin)\n",
    "    true_neg = (wrong_similarity < margin)\n",
    "    both = torch.mul(true_neg, true_pos)\n",
    "    return true_pos.sum().data[0], true_neg.sum().data[0], both.sum().data[0]\n",
    "\n",
    "def countEucledianCorrect(margin):\n",
    "    true_pos = (euc_pos < margin)\n",
    "    true_neg = (euc_neg > margin)\n",
    "    both = torch.mul(true_neg, true_pos)\n",
    "    return true_pos.sum().data[0], true_neg.sum().data[0], both.sum().data[0]\n",
    "    "
   ]
  },
  {
   "cell_type": "markdown",
   "metadata": {},
   "source": [
    "# Visualize triplets"
   ]
  },
  {
   "cell_type": "code",
   "execution_count": null,
   "metadata": {},
   "outputs": [],
   "source": [
    "import matplotlib.pyplot as plt\n",
    "import seaborn as sns\n",
    "plt.rcParams['figure.figsize'] = 16, 8"
   ]
  },
  {
   "cell_type": "code",
   "execution_count": null,
   "metadata": {},
   "outputs": [],
   "source": [
    "M = np.linspace(0, 1, 1000)\n",
    "precision_vs_margin = [countCosineCorrect(m) for m in M]\n",
    "plt.plot(M, precision_vs_margin)\n",
    "best_cos_margin = M[np.argmax(precision_vs_margin, axis=0)[2]]\n",
    "plt.title('Cosine distance test, max performance at MARGIN=%1.4f'%best_cos_margin)\n",
    "plt.show()"
   ]
  },
  {
   "cell_type": "code",
   "execution_count": null,
   "metadata": {},
   "outputs": [],
   "source": [
    "M = np.linspace(0, 2, 1000)\n",
    "precision_vs_margin = [countEucledianCorrect(m) for m in M]\n",
    "plt.plot(M, precision_vs_margin)\n",
    "plt.legend(['True positive', 'True negative', 'AND'])\n",
    "best_euc_margin = M[np.argmax(precision_vs_margin, axis=0)[2]]\n",
    "plt.title('Eucledian distance test, max performance at MARGIN=%1.4f'%best_euc_margin)\n",
    "plt.show()"
   ]
  },
  {
   "cell_type": "code",
   "execution_count": null,
   "metadata": {},
   "outputs": [],
   "source": [
    "euc_margin = .93\n",
    "for i, (a, p, n, d1, d2) in enumerate(zip(anchor, positive, negative, euc_pos, euc_neg)):\n",
    "    a_img = np.uint8(a.data.cpu().numpy()*255).transpose(1, 2, 0)\n",
    "    p_img = np.uint8(p.data.cpu().numpy()*255).transpose(1, 2, 0)\n",
    "    n_img = np.uint8(n.data.cpu().numpy()*255).transpose(1, 2, 0)\n",
    "    d1 = d1.data[0]\n",
    "    d2 = d2.data[0]\n",
    "    \n",
    "    correct = d1 < euc_margin and d2 > euc_margin\n",
    "    \n",
    "    print('EXAMPLE %03d' % i, 'CORRECT' if correct else '!!! FAIL')\n",
    "    \n",
    "    plt.figure()\n",
    "    plt.subplot(131)\n",
    "    plt.imshow(a_img)\n",
    "    plt.title('Distance: 0')\n",
    "    plt.subplot(132)\n",
    "    plt.imshow(p_img)\n",
    "    plt.title('Distance: %2.3f' % d1)\n",
    "    plt.subplot(133)\n",
    "    plt.imshow(n_img)\n",
    "    plt.title('Distance: %2.3f' % d2)\n",
    "    \n",
    "    plt.show()"
   ]
  },
  {
   "cell_type": "code",
   "execution_count": null,
   "metadata": {},
   "outputs": [],
   "source": []
  }
 ],
 "metadata": {
  "kernelspec": {
   "display_name": "Python 3",
   "language": "python",
   "name": "python3"
  },
  "language_info": {
   "codemirror_mode": {
    "name": "ipython",
    "version": 3
   },
   "file_extension": ".py",
   "mimetype": "text/x-python",
   "name": "python",
   "nbconvert_exporter": "python",
   "pygments_lexer": "ipython3",
   "version": "3.5.4"
  }
 },
 "nbformat": 4,
 "nbformat_minor": 2
}
