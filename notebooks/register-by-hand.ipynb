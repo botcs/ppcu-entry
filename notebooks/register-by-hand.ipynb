{
 "cells": [
  {
   "cell_type": "markdown",
   "metadata": {},
   "source": [
    "# Register by hand\n",
    "\n",
    "Describes a sequence of steps how to find someone in the global embedding database, and associate their user_id to the idx in the embedding database"
   ]
  },
  {
   "cell_type": "code",
   "execution_count": null,
   "metadata": {},
   "outputs": [],
   "source": [
    "import torch\n",
    "import numpy as np\n",
    "from PIL import Image\n",
    "from utils import send_query, send_large_query\n"
   ]
  },
  {
   "cell_type": "markdown",
   "metadata": {},
   "source": [
    "### Get a starting point where we assume that the person is present on the image"
   ]
  },
  {
   "cell_type": "code",
   "execution_count": null,
   "metadata": {},
   "outputs": [],
   "source": [
    "query_params = {\n",
    "    'minusoffset': 2000,\n",
    "    'plusoffset': 2000,\n",
    "    'name': 'Mitnyik Levente'\n",
    "}\n",
    "\n",
    "SQL_QUERY = '''\n",
    "    SELECT aligned_ID, path, name FROM aligned JOIN (\n",
    "        SELECT name, timestamp-{minusoffset} as start, timestamp+{plusoffset} as end \n",
    "        FROM Mandacsko_log WHERE gate = \"Forgóvilla jobb (kintről) BE\" AND name = \"{name}\") \n",
    "    ON aligned.timestamp BETWEEN start AND end;\n",
    "'''\n",
    "SQL_QUERY = SQL_QUERY.format(**query_params)\n",
    "\n",
    "query_result = send_query(SQL_QUERY)\n",
    "display(query_result[0])\n",
    "display(Image.open(query_result[0]['path']))"
   ]
  },
  {
   "cell_type": "markdown",
   "metadata": {},
   "source": [
    "### Now find the corresponding embedding for this image"
   ]
  },
  {
   "cell_type": "code",
   "execution_count": null,
   "metadata": {},
   "outputs": [],
   "source": [
    "embedding_database = torch.load('ALIGNED_EMBEDDING_DATABASE.pth')\n",
    "all_paths = embedding_database['paths']\n",
    "all_embs = embedding_database['embeddings']"
   ]
  },
  {
   "cell_type": "code",
   "execution_count": null,
   "metadata": {},
   "outputs": [],
   "source": [
    "# We found 70 registered images, select the 51th\n",
    "registered_idx = 30\n",
    "# The database starts counting from 1\n",
    "query_idx = int(query_result[registered_idx]['aligned_ID']) - 1\n",
    "embedding_query = all_embs[51696]"
   ]
  },
  {
   "cell_type": "markdown",
   "metadata": {},
   "source": [
    "### Finally we can get the closest embeddings, and use their `idx` to find the corresponding path"
   ]
  },
  {
   "cell_type": "code",
   "execution_count": null,
   "metadata": {},
   "outputs": [],
   "source": [
    "def getKclosest(embedding_query, k=-1):\n",
    "    anchor_embedding = embedding_query\n",
    "    distance = ((all_embs-anchor_embedding)**2).mean(-1)\n",
    "    sorted_distance, idxs = torch.sort(distance)\n",
    "        \n",
    "    return all_embs[idxs], idxs[:k], sorted_distance[:k]"
   ]
  },
  {
   "cell_type": "code",
   "execution_count": null,
   "metadata": {},
   "outputs": [],
   "source": [
    "def plotKclosest(embedding_query, k):\n",
    "    _, idxs, distance = getKclosest(embedding_query, k)\n",
    "    for i, (idx, d) in enumerate(zip(idxs.data, distance.data)):\n",
    "        print(i, idx, d)\n",
    "        display(Image.open(all_paths[idx]))"
   ]
  },
  {
   "cell_type": "code",
   "execution_count": null,
   "metadata": {},
   "outputs": [],
   "source": [
    "plotKclosest(embedding_query, 85)"
   ]
  },
  {
   "cell_type": "markdown",
   "metadata": {},
   "source": [
    "### Update the corresponding record in the `aligned` table in the SQL database"
   ]
  },
  {
   "cell_type": "code",
   "execution_count": null,
   "metadata": {},
   "outputs": [],
   "source": [
    "send_query('SELECT COUNT(*) FROM aligned WHERE user_ID = %d'%3)"
   ]
  },
  {
   "cell_type": "code",
   "execution_count": null,
   "metadata": {},
   "outputs": [],
   "source": [
    "def updateAligned(user_id, embedded_idxs, verbose=False):\n",
    "    FULL_QUERY = ''\n",
    "    for idx in embedded_idxs:\n",
    "        query_params = {\n",
    "            'user_id': user_id,\n",
    "            'idx': idx + 1\n",
    "        }\n",
    "\n",
    "        UPDATE_SQL = \"\"\"\n",
    "            UPDATE aligned\n",
    "            SET user_ID = {user_id}\n",
    "            WHERE aligned_ID = {idx};\n",
    "        \"\"\"\n",
    "        UPDATE_SQL = UPDATE_SQL.format(**query_params)\n",
    "        FULL_QUERY += UPDATE_SQL\n",
    "    \n",
    "    send_query(FULL_QUERY, verbose=verbose)\n",
    "    if verbose:\n",
    "        total_count = send_query(\n",
    "            'SELECT COUNT(*) FROM aligned WHERE user_ID = %d'%user_id)[0]['COUNT(*)']\n",
    "        print('# total images assigned to user_ID %d: %3d'%(user_id, int(total_count)))\n",
    "        return total_count"
   ]
  },
  {
   "cell_type": "code",
   "execution_count": null,
   "metadata": {},
   "outputs": [],
   "source": [
    "# Determine the user_ID by hand...\n",
    "# Levi is the first user, in the user table\n",
    "# TODO: populate the user table from the registration_logs and the Mandácskó logs\n",
    "user_id = 1\n",
    "_, candidate_indices, _ = getKclosest(embedding_query, 85)\n",
    "updateAligned(user_id, embedded_idxs=candidate_indices.data)\n",
    "    "
   ]
  },
  {
   "cell_type": "markdown",
   "metadata": {},
   "source": [
    "### Experimental: try to do depth first search on candidate images.\n",
    "\n",
    "step 1: Have a fix image (that you are sure about) \n",
    "\n",
    "step 2: find the 10 closest and assign them to the user\n",
    "\n",
    "step 3: remember your image to not to look at it again - and go to step 1 on the 1st match\n",
    "\n",
    "This may go wrong at some point - ideally you would find all the closest images and \n"
   ]
  },
  {
   "cell_type": "code",
   "execution_count": null,
   "metadata": {},
   "outputs": [],
   "source": [
    "proximity = 85\n",
    "start_idx = 51710\n",
    "isVisited = {start_idx}\n",
    "_, candidate_indices, _ = getKclosest(all_embs[start_idx], proximity)\n",
    "toVisit = [i.data[0] for i in candidate_indices]\n",
    "count = 0\n",
    "while len(toVisit) > 0:\n",
    "    i = toVisit.pop()\n",
    "    if i in isVisited:\n",
    "        continue\n",
    "    isVisited.add(i)\n",
    "    _, candidate_indices, _ = getKclosest(all_embs[idx], proximity)\n",
    "    new_candidates = [i.data[0] for i in candidate_indices]\n",
    "    #new_candidates.reverse()\n",
    "    toVisit += new_candidates\n",
    "    count += 1\n",
    "    print(count, i)\n",
    "    display(Image.open(all_paths[i]))\n",
    "    "
   ]
  },
  {
   "cell_type": "markdown",
   "metadata": {},
   "source": [
    "### Experimental: Iterative MEAN search\n",
    "\n",
    "step 1: Have a fix image (that you are sure about) \n",
    "\n",
    "step 2: find the `proximity` closest to the current `mean_emb`\n",
    "\n",
    "step 3: remember your image to not to look at it again\n",
    "\n",
    "step 4: update `mean_emb` and go to step 1 on the 1st match\n",
    "\n",
    "This may go wrong at some point - ideally you would find all the closest images and \n"
   ]
  },
  {
   "cell_type": "code",
   "execution_count": null,
   "metadata": {},
   "outputs": [],
   "source": [
    "proximity = 85\n",
    "start_idx = 51696\n",
    "isVisited = [start_idx]\n",
    "\n",
    "mean_emb = all_embs[start_idx]\n",
    "\n",
    "_, candidate_indices, _ = getKclosest(mean_emb, proximity)\n",
    "toVisit = [i.data[0] for i in candidate_indices]\n",
    "count = 0\n",
    "while len(toVisit) > 0:\n",
    "    # pop(0) -> Breadth first search\n",
    "    #i = toVisit.pop(0)\n",
    "    # pop(-1) -> Depth first search\n",
    "    i = toVisit.pop(-1)\n",
    "    if i in isVisited:\n",
    "        continue\n",
    "    isVisited.append(i)\n",
    "    new_mean_emb = (mean_emb + all_embs[i]) / 2.\n",
    "    _, candidate_indices, _ = getKclosest(new_mean_emb, proximity)\n",
    "    new_candidates = [i.data[0] for i in candidate_indices]\n",
    "    new_candidates.reverse()\n",
    "    toVisit += new_candidates\n",
    "    mean_emb = new_mean_emb\n",
    "    \n",
    "    count += 1\n",
    "    print(count, i)    \n",
    "    "
   ]
  },
  {
   "cell_type": "code",
   "execution_count": null,
   "metadata": {},
   "outputs": [],
   "source": [
    "for i, idx in enumerate(isVisited):\n",
    "    print(i)\n",
    "    display(Image.open(all_paths[idx]))"
   ]
  },
  {
   "cell_type": "markdown",
   "metadata": {},
   "source": [
    "### Conclusion: Iterative MEAN search seems to be quite effective in generalizing over faces\n",
    "\n",
    "So I update again the database"
   ]
  },
  {
   "cell_type": "code",
   "execution_count": null,
   "metadata": {},
   "outputs": [],
   "source": [
    "updateAligned(user_id=1, embedded_idxs=isVisited[:168])"
   ]
  },
  {
   "cell_type": "markdown",
   "metadata": {},
   "source": [
    "## Let's see how far we got"
   ]
  },
  {
   "cell_type": "code",
   "execution_count": null,
   "metadata": {},
   "outputs": [],
   "source": [
    "query_params = {\n",
    "    'name': 'Mitnyik Levente'\n",
    "}\n",
    "\n",
    "SQL_QUERY = '''\n",
    "    SELECT aligned_ID, path, timestamp FROM aligned JOIN (\n",
    "        SELECT user_ID FROM user WHERE name = \"{name}\") \n",
    "    ON aligned.user_ID;\n",
    "'''\n",
    "SQL_QUERY = SQL_QUERY.format(**query_params)\n",
    "\n",
    "aligned_path = send_query(SQL_QUERY)"
   ]
  },
  {
   "cell_type": "code",
   "execution_count": null,
   "metadata": {},
   "outputs": [],
   "source": [
    "for i, q in enumerate(aligned_path):\n",
    "    display(i)\n",
    "    display(Image.open(q['path']))"
   ]
  },
  {
   "cell_type": "markdown",
   "metadata": {},
   "source": [
    "### If there are a lot of random faces associated... so tidy up the whole user"
   ]
  },
  {
   "cell_type": "code",
   "execution_count": null,
   "metadata": {},
   "outputs": [],
   "source": [
    "updateAligned('NULL', [int(q['aligned_ID'])-1 for q in aligned_path])"
   ]
  },
  {
   "cell_type": "code",
   "execution_count": null,
   "metadata": {},
   "outputs": [],
   "source": []
  },
  {
   "cell_type": "markdown",
   "metadata": {},
   "source": [
    "### Check out another user"
   ]
  },
  {
   "cell_type": "code",
   "execution_count": null,
   "metadata": {},
   "outputs": [],
   "source": [
    "query_params = {\n",
    "    'minusoffset': 2000,\n",
    "    'plusoffset': 2000,\n",
    "    'name': 'Hakkel Tamás'\n",
    "}\n",
    "\n",
    "SQL_QUERY = '''\n",
    "    SELECT aligned_ID, path, name FROM aligned JOIN (\n",
    "        SELECT name, timestamp-{minusoffset} as start, timestamp+{plusoffset} as end \n",
    "        FROM Mandacsko_log WHERE gate = \"Forgóvilla jobb (kintről) BE\" AND name = \"{name}\") \n",
    "    ON aligned.timestamp BETWEEN start AND end;\n",
    "'''\n",
    "SQL_QUERY = SQL_QUERY.format(**query_params)\n",
    "\n",
    "query_result = send_query(SQL_QUERY)\n",
    "display(query_result[0])\n",
    "for i, q in enumerate(query_result):\n",
    "    print(i, q['aligned_ID'])\n",
    "    display(Image.open(q['path']))"
   ]
  },
  {
   "cell_type": "code",
   "execution_count": null,
   "metadata": {},
   "outputs": [],
   "source": [
    "proximity = 85\n",
    "start_idx = 38038\n",
    "isVisited = [start_idx]\n",
    "\n",
    "mean_emb = all_embs[start_idx]\n",
    "\n",
    "_, candidate_indices, _ = getKclosest(mean_emb, proximity)\n",
    "toVisit = [i.data[0] for i in candidate_indices]\n",
    "count = 0\n",
    "while len(toVisit) > 0:\n",
    "    # pop(0) -> Breadth first search\n",
    "    #i = toVisit.pop(0)\n",
    "    # pop(-1) -> Breadth first search\n",
    "    i = toVisit.pop(-1)\n",
    "    if i in isVisited:\n",
    "        continue\n",
    "    isVisited.append(i)\n",
    "    new_mean_emb = (mean_emb + all_embs[i]) / 2.\n",
    "    _, candidate_indices, _ = getKclosest(new_mean_emb, proximity)\n",
    "    new_candidates = [i.data[0] for i in candidate_indices]\n",
    "    new_candidates.reverse()\n",
    "    toVisit += new_candidates\n",
    "    mean_emb = new_mean_emb\n",
    "    \n",
    "    count += 1\n",
    "    print(count, i)    \n",
    "    display(Image.open(all_paths[i]))"
   ]
  },
  {
   "cell_type": "code",
   "execution_count": null,
   "metadata": {},
   "outputs": [],
   "source": [
    "updateAligned(user_id=2, embedded_idxs=isVisited[:564])"
   ]
  },
  {
   "cell_type": "markdown",
   "metadata": {},
   "source": [
    "### Double check"
   ]
  },
  {
   "cell_type": "code",
   "execution_count": null,
   "metadata": {},
   "outputs": [],
   "source": [
    "send_query('SELECT user_ID FROM user WHERE name = \"Hakkel Tamás\"')"
   ]
  },
  {
   "cell_type": "code",
   "execution_count": null,
   "metadata": {},
   "outputs": [],
   "source": [
    "send_large_query('SELECT aligned_ID FROM aligned')"
   ]
  },
  {
   "cell_type": "code",
   "execution_count": null,
   "metadata": {},
   "outputs": [],
   "source": [
    "query_params = {\n",
    "    'name': 'Hakkel Tamás'\n",
    "}\n",
    "\n",
    "SQL_QUERY = '''\n",
    "    SELECT aligned_ID, path\n",
    "    FROM aligned \n",
    "    JOIN user ON user.user_ID\n",
    "    WHERE name = \"{name}\"\n",
    "'''\n",
    "SQL_QUERY = SQL_QUERY.format(**query_params)\n",
    "\n",
    "aligned_path = send_query('SELECT path FROM aligned WHERE user_ID = 2')\n",
    "#OK aligned_path = send_large_query('SELECT aligned_ID FROM aligned WHERE user_ID = 2')\n",
    "#NO aligned_path = send_large_query(SQL_QUERY)\n",
    "#NO aligned_path = send_query(SQL_QUERY)\n",
    "\n",
    "for i, q in enumerate(aligned_path):\n",
    "    display(i)\n",
    "    display(Image.open(q['path']))"
   ]
  },
  {
   "cell_type": "code",
   "execution_count": null,
   "metadata": {},
   "outputs": [],
   "source": []
  },
  {
   "cell_type": "markdown",
   "metadata": {},
   "source": [
    "### Check out myself"
   ]
  },
  {
   "cell_type": "code",
   "execution_count": null,
   "metadata": {},
   "outputs": [],
   "source": [
    "proximity = 10\n",
    "start_idx = 279395\n",
    "isVisited = [start_idx]\n",
    "\n",
    "mean_emb = all_embs[start_idx]\n",
    "\n",
    "_, candidate_indices, _ = getKclosest(mean_emb, proximity)\n",
    "toVisit = [i.data[0] for i in candidate_indices]\n",
    "count = 0\n",
    "while len(toVisit) > 0:\n",
    "    # pop(0) -> Breadth first search\n",
    "    #i = toVisit.pop(0)\n",
    "    # pop(-1) -> Breadth first search\n",
    "    i = toVisit.pop(-1)\n",
    "    if i in isVisited:\n",
    "        continue\n",
    "    isVisited.append(i)\n",
    "    new_mean_emb = (mean_emb + all_embs[i]) / float(len(isVisited) + 1)\n",
    "    _, candidate_indices, _ = getKclosest(new_mean_emb, proximity)\n",
    "    new_candidates = [i.data[0] for i in candidate_indices]\n",
    "    new_candidates.reverse()\n",
    "    toVisit += new_candidates\n",
    "    mean_emb = new_mean_emb\n",
    "    \n",
    "    count += 1\n",
    "    print(count, i)    \n",
    "    display(Image.open(all_paths[i]))"
   ]
  },
  {
   "cell_type": "code",
   "execution_count": null,
   "metadata": {},
   "outputs": [],
   "source": [
    "updateAligned(3, isVisited[1:14], verbose=True)"
   ]
  },
  {
   "cell_type": "code",
   "execution_count": null,
   "metadata": {},
   "outputs": [],
   "source": [
    "def getMeanof(idxs):\n",
    "    selected_embs = torch.stack([all_embs[idx] for idx in idxs])\n",
    "    mean_emb = torch.mean(selected_embs, dim=0)\n",
    "    return mean_emb\n",
    "    "
   ]
  },
  {
   "cell_type": "code",
   "execution_count": null,
   "metadata": {},
   "outputs": [],
   "source": [
    "plotKclosest(embedding_query=getMeanof(isVisited[:48]), k=100)"
   ]
  },
  {
   "cell_type": "markdown",
   "metadata": {},
   "source": [
    "### Why not make a Plot-so-far function"
   ]
  },
  {
   "cell_type": "code",
   "execution_count": null,
   "metadata": {},
   "outputs": [],
   "source": [
    "def getUserIndices(user_ID, plot=False):\n",
    "    query_params = {\n",
    "        'user_ID': user_ID\n",
    "    }\n",
    "\n",
    "    SQL_QUERY = '''\n",
    "        SELECT aligned_ID, path\n",
    "        FROM aligned\n",
    "        WHERE user_ID = {user_ID}\n",
    "    '''\n",
    "    SQL_QUERY = SQL_QUERY.format(**query_params)\n",
    "\n",
    "    query_return = send_query(SQL_QUERY)\n",
    "    \n",
    "    if plot:\n",
    "        for i, q in enumerate(query_return):\n",
    "            print(i, q['aligned_ID'])\n",
    "            display(Image.open(q['path']))\n",
    "    return [int(q['aligned_ID']) - 1 for q in query_return]"
   ]
  },
  {
   "cell_type": "code",
   "execution_count": null,
   "metadata": {},
   "outputs": [],
   "source": [
    "user_idxs = getUserIndices(3, True)"
   ]
  },
  {
   "cell_type": "code",
   "execution_count": null,
   "metadata": {},
   "outputs": [],
   "source": [
    "_, idxs, _ = plotKclosest(embedding_query=getMeanof(user_idxs), k=100)"
   ]
  },
  {
   "cell_type": "code",
   "execution_count": null,
   "metadata": {},
   "outputs": [],
   "source": []
  },
  {
   "cell_type": "code",
   "execution_count": null,
   "metadata": {},
   "outputs": [],
   "source": [
    "query_params = {\n",
    "    'minusoffset': 2000,\n",
    "    'plusoffset': 2000,\n",
    "    'name': 'Steinbach László'\n",
    "}\n",
    "\n",
    "SQL_QUERY = '''\n",
    "    SELECT aligned_ID, path, name FROM aligned JOIN (\n",
    "        SELECT name, timestamp-{minusoffset} as start, timestamp+{plusoffset} as end \n",
    "        FROM Mandacsko_log WHERE gate = \"Forgóvilla jobb (kintről) BE\" AND name = \"{name}\") \n",
    "    ON aligned.timestamp BETWEEN start AND end;\n",
    "'''\n",
    "SQL_QUERY = SQL_QUERY.format(**query_params)\n",
    "\n",
    "query_result = send_query(SQL_QUERY)\n",
    "display(query_result[0])\n",
    "for i, q in enumerate(query_result):\n",
    "    print(i, q['aligned_ID'])\n",
    "    display(Image.open(q['path']))"
   ]
  },
  {
   "cell_type": "code",
   "execution_count": null,
   "metadata": {},
   "outputs": [],
   "source": [
    "updateAligned(4, [int(q['aligned_ID'])-1 for q in query_result], verbose=True)"
   ]
  },
  {
   "cell_type": "code",
   "execution_count": null,
   "metadata": {},
   "outputs": [],
   "source": [
    "proximity = 85\n",
    "start_idx = 10047\n",
    "isVisited = [start_idx]\n",
    "\n",
    "mean_emb = all_embs[start_idx]\n",
    "\n",
    "_, candidate_indices, _ = getKclosest(mean_emb, proximity)\n",
    "toVisit = [i.data[0] for i in candidate_indices]\n",
    "count = 0\n",
    "while len(toVisit) > 0:\n",
    "    # pop(0) -> Breadth first search\n",
    "    #i = toVisit.pop(0)\n",
    "    # pop(-1) -> Breadth first search\n",
    "    i = toVisit.pop(-1)\n",
    "    if i in isVisited:\n",
    "        continue\n",
    "    isVisited.append(i)\n",
    "    new_mean_emb = (mean_emb + all_embs[i]) / float(len(isVisited) + 1)\n",
    "    _, candidate_indices, _ = getKclosest(new_mean_emb, proximity)\n",
    "    new_candidates = [i.data[0] for i in candidate_indices]\n",
    "    new_candidates.reverse()\n",
    "    toVisit += new_candidates\n",
    "    mean_emb = new_mean_emb\n",
    "    \n",
    "    count += 1\n",
    "    print(count, i)    \n",
    "    display(Image.open(all_paths[i]))"
   ]
  },
  {
   "cell_type": "code",
   "execution_count": null,
   "metadata": {},
   "outputs": [],
   "source": [
    "user_idxs = getUserIndices(4, False)"
   ]
  },
  {
   "cell_type": "code",
   "execution_count": null,
   "metadata": {},
   "outputs": [],
   "source": [
    "plotKclosest(getMeanof(user_idxs), 200)"
   ]
  },
  {
   "cell_type": "code",
   "execution_count": null,
   "metadata": {},
   "outputs": [],
   "source": [
    "proximity = 85\n",
    "start_idx = 10047\n",
    "isVisited = [start_idx]\n",
    "\n",
    "mean_emb = getMeanof(user_idxs)\n",
    "\n",
    "_, candidate_indices, _ = getKclosest(mean_emb, proximity)\n",
    "toVisit = [i.data[0] for i in candidate_indices]\n",
    "count = 0\n",
    "while len(toVisit) > 0:\n",
    "    # pop(0) -> Breadth first search\n",
    "    #i = toVisit.pop(0)\n",
    "    # pop(-1) -> Breadth first search\n",
    "    i = toVisit.pop(-1)\n",
    "    if i in isVisited:\n",
    "        continue\n",
    "    isVisited.append(i)\n",
    "    new_mean_emb = (mean_emb + all_embs[i]) / float(len(isVisited) + 1)\n",
    "    _, candidate_indices, _ = getKclosest(new_mean_emb, proximity)\n",
    "    new_candidates = [i.data[0] for i in candidate_indices]\n",
    "    new_candidates.reverse()\n",
    "    toVisit += new_candidates\n",
    "    mean_emb = new_mean_emb\n",
    "    \n",
    "    count += 1\n",
    "    print(count, i)    \n",
    "    display(Image.open(all_paths[i]))"
   ]
  },
  {
   "cell_type": "code",
   "execution_count": null,
   "metadata": {},
   "outputs": [],
   "source": [
    "updateAligned(4, isVisited[:119], verbose=True)"
   ]
  },
  {
   "cell_type": "code",
   "execution_count": null,
   "metadata": {},
   "outputs": [],
   "source": [
    "getUserIndices(4, True)"
   ]
  },
  {
   "cell_type": "code",
   "execution_count": null,
   "metadata": {},
   "outputs": [],
   "source": []
  }
 ],
 "metadata": {
  "kernelspec": {
   "display_name": "Python 3",
   "language": "python",
   "name": "python3"
  },
  "language_info": {
   "codemirror_mode": {
    "name": "ipython",
    "version": 3
   },
   "file_extension": ".py",
   "mimetype": "text/x-python",
   "name": "python",
   "nbconvert_exporter": "python",
   "pygments_lexer": "ipython3",
   "version": "3.5.4"
  }
 },
 "nbformat": 4,
 "nbformat_minor": 2
}
