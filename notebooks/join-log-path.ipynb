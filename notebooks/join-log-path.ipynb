{
 "cells": [
  {
   "cell_type": "code",
   "execution_count": null,
   "metadata": {},
   "outputs": [],
   "source": [
    "from urllib import request, parse\n",
    "import json\n",
    "import csv\n",
    "import time\n",
    "import datetime\n",
    "\n",
    "def send_query(query):\n",
    "    post_data = {'password': \"wY^!8FsB.+DSA}tb=nhfMTq6XHy`;?u%']m_dp{~xV,Z#5(va-\", \n",
    "                 'query': query }\n",
    "    data = parse.urlencode(post_data).encode()\n",
    "    req =  request.Request(\"https://users.itk.ppke.hu/~hakta/belepteto/db.php\", data=data)\n",
    "    resp = request.urlopen(req)\n",
    "\n",
    "    response = json.loads(resp.read().decode())\n",
    "    assert response['success'], response['answer']\n",
    "    return response['answer']"
   ]
  },
  {
   "cell_type": "code",
   "execution_count": null,
   "metadata": {},
   "outputs": [],
   "source": [
    "with open('log_mar12-apr11.tsv', 'r') as csv_file:\n",
    "    csv_reader = list(csv.reader(csv_file, delimiter='\\t'))\n",
    "    \n",
    "    "
   ]
  },
  {
   "cell_type": "code",
   "execution_count": null,
   "metadata": {},
   "outputs": [],
   "source": [
    "myDate = \"3/14/2018 10:08:16\"\n",
    "PPKE_server_fucking_offset = -114000\n",
    "def mkstamp(date):\n",
    "    timestamp = time.mktime(datetime.datetime.strptime(date, \"%m/%d/%Y %H:%M:%S\").timetuple())\n",
    "    timestamp *= 1000\n",
    "    timestamp += PPKE_server_fucking_offset\n",
    "    return timestamp"
   ]
  },
  {
   "cell_type": "code",
   "execution_count": null,
   "metadata": {},
   "outputs": [],
   "source": [
    "mkstamp('4/10/2018 7:49:17')"
   ]
  },
  {
   "cell_type": "code",
   "execution_count": null,
   "metadata": {},
   "outputs": [],
   "source": [
    "SINGLE_SQL_QUERY_STRING =\\\n",
    "    'INSERT INTO MANDACSKO_LOG(NAME, TIMESTAMP, GATE, SUCCESS) VALUES(%s, %s, %s, \"OK\"); '\\\n",
    "    %(name, timestamp, gate)"
   ]
  },
  {
   "cell_type": "code",
   "execution_count": null,
   "metadata": {},
   "outputs": [],
   "source": [
    "FULL_QUERY = ''\n",
    "for date, name, gate in csv_reader:\n",
    "    SINGLE_SQL_QUERY_STRING =\\\n",
    "    'INSERT INTO MANDACSKO_LOG(NAME, TIMESTAMP, GATE, SUCCESS) VALUES(\"%s\", %d, \"%s\", \"OK\"); '\\\n",
    "    %(name, mkstamp(date), gate)\n",
    "    FULL_QUERY += SINGLE_SQL_QUERY_STRING"
   ]
  },
  {
   "cell_type": "code",
   "execution_count": null,
   "metadata": {},
   "outputs": [],
   "source": [
    "FULL_QUERY[:300]"
   ]
  },
  {
   "cell_type": "code",
   "execution_count": null,
   "metadata": {},
   "outputs": [],
   "source": [
    "SINGLE_SQL_QUERY_STRING"
   ]
  },
  {
   "cell_type": "code",
   "execution_count": null,
   "metadata": {},
   "outputs": [],
   "source": [
    "len(SINGLE_SQL_QUERY_STRING)"
   ]
  },
  {
   "cell_type": "code",
   "execution_count": null,
   "metadata": {},
   "outputs": [],
   "source": [
    "import .."
   ]
  },
  {
   "cell_type": "code",
   "execution_count": null,
   "metadata": {},
   "outputs": [],
   "source": [
    "batch_size = 2048\n",
    "for idx in range(0, len(csv_reader), batch_size):\n",
    "    FULL_QUERY = ''\n",
    "    for date, name, gate in csv_reader[idx:idx+batch_size]:\n",
    "        w\n",
    "        FULL_QUERY += SINGLE_SQL_QUERY_STRING\n",
    "    send_query(FULL_QUERY)\n",
    "    print('[%5d : %5d]'%(min(idx+batch_size, len(csv_reader)), len(csv_reader)))"
   ]
  },
  {
   "cell_type": "code",
   "execution_count": null,
   "metadata": {},
   "outputs": [],
   "source": [
    "FULL_QUERY[:1000]"
   ]
  },
  {
   "cell_type": "code",
   "execution_count": null,
   "metadata": {},
   "outputs": [],
   "source": [
    "len(FULL_QUERY)"
   ]
  }
 ],
 "metadata": {
  "kernelspec": {
   "display_name": "Python 3",
   "language": "python",
   "name": "python3"
  },
  "language_info": {
   "codemirror_mode": {
    "name": "ipython",
    "version": 3
   },
   "file_extension": ".py",
   "mimetype": "text/x-python",
   "name": "python",
   "nbconvert_exporter": "python",
   "pygments_lexer": "ipython3",
   "version": "3.5.4"
  }
 },
 "nbformat": 4,
 "nbformat_minor": 2
}
