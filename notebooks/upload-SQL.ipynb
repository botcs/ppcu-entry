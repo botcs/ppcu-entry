{
 "cells": [
  {
   "cell_type": "code",
   "execution_count": null,
   "metadata": {},
   "outputs": [],
   "source": [
    "from utils.sqlrequest import send_query\n",
    "import datetime, time\n",
    "import os"
   ]
  },
  {
   "cell_type": "code",
   "execution_count": null,
   "metadata": {},
   "outputs": [],
   "source": [
    "#paths = glob('/home/csbotos/video/**/thumbnail/*.jpg', recursive=True)\n",
    "paths = open('aligned_list.txt').read().splitlines()"
   ]
  },
  {
   "cell_type": "code",
   "execution_count": null,
   "metadata": {},
   "outputs": [],
   "source": [
    "len(paths)"
   ]
  },
  {
   "cell_type": "code",
   "execution_count": null,
   "metadata": {},
   "outputs": [],
   "source": [
    "def mkstamp(date):\n",
    "    parts = date.split('.')\n",
    "    if len(parts) == 4:\n",
    "        timestamp = int(parts[-2]) * 1000  + int(parts[-1][:3])\n",
    "    else:\n",
    "        dt = datetime.datetime.strptime(date, \"%Y-%m-%d.%H-%M-%S.%f\")\n",
    "        timestamp = time.mktime(dt.timetuple()) + (dt.microsecond / 1000000.0)\n",
    "    \n",
    "        timestamp *= 1000\n",
    "    \n",
    "    return int(timestamp)"
   ]
  },
  {
   "cell_type": "code",
   "execution_count": null,
   "metadata": {},
   "outputs": [],
   "source": [
    "def get_ts(path):\n",
    "    img_name = os.path.basename(path)\n",
    "    ts = mkstamp(img_name[img_name.find('2018-'):-5])\n",
    "    return ts"
   ]
  },
  {
   "cell_type": "code",
   "execution_count": null,
   "metadata": {},
   "outputs": [],
   "source": [
    "batch_size = 4500\n",
    "for idx in range(0, len(paths), batch_size):\n",
    "    FULL_QUERY = ''\n",
    "    for path in paths[idx:idx+batch_size]:\n",
    "        ts = get_ts(path)\n",
    "        SINGLE_SQL_QUERY_STRING =\\\n",
    "        'INSERT INTO ALIGNED(PATH, TIMESTAMP) VALUES(\"%s\", %d); '\\\n",
    "        %(path, ts)\n",
    "        FULL_QUERY += SINGLE_SQL_QUERY_STRING\n",
    "    send_query(FULL_QUERY, verbose=False)\n",
    "    print('[%5d : %5d]'%(min(idx+batch_size, len(paths)), len(paths)))"
   ]
  },
  {
   "cell_type": "code",
   "execution_count": null,
   "metadata": {},
   "outputs": [],
   "source": []
  },
  {
   "cell_type": "code",
   "execution_count": null,
   "metadata": {},
   "outputs": [],
   "source": []
  },
  {
   "cell_type": "code",
   "execution_count": null,
   "metadata": {},
   "outputs": [],
   "source": [
    "from urllib import request, parse\n",
    "import json\n",
    "import csv\n",
    "import time\n",
    "import datetime\n",
    "import os\n",
    "\n",
    "def send_query(query):\n",
    "    post_data = {'password': \"wY^!8FsB.+DSA}tb=nhfMTq6XHy`;?u%']m_dp{~xV,Z#5(va-\", \n",
    "                 'query': query }\n",
    "    data = parse.urlencode(post_data).encode()\n",
    "    req =  request.Request(\"https://users.itk.ppke.hu/~hakta/belepteto/db.php\", data=data)\n",
    "    resp = request.urlopen(req)\n",
    "\n",
    "    response = json.loads(resp.read().decode())\n",
    "    assert response['success'], response['answer']\n",
    "    return response['answer']"
   ]
  },
  {
   "cell_type": "code",
   "execution_count": null,
   "metadata": {},
   "outputs": [],
   "source": [
    "with open('server-site/hasface-list.txt') as f:\n",
    "    paths = f.readlines()"
   ]
  },
  {
   "cell_type": "code",
   "execution_count": null,
   "metadata": {},
   "outputs": [],
   "source": [
    "len(paths)"
   ]
  },
  {
   "cell_type": "code",
   "execution_count": null,
   "metadata": {},
   "outputs": [],
   "source": [
    "str.find()"
   ]
  },
  {
   "cell_type": "code",
   "execution_count": null,
   "metadata": {},
   "outputs": [],
   "source": [
    "def mkstamp(date):\n",
    "    parts = date.split('.')\n",
    "    if len(parts) == 4:\n",
    "        timestamp = int(parts[-2]) * 1000  + int(parts[-1][:3])\n",
    "    else:\n",
    "        dt = datetime.datetime.strptime(date, \"%Y-%m-%d.%H-%M-%S.%f\")\n",
    "        timestamp = time.mktime(dt.timetuple()) + (dt.microsecond / 1000000.0)\n",
    "    \n",
    "        timestamp *= 1000\n",
    "    \n",
    "    return int(timestamp)"
   ]
  },
  {
   "cell_type": "code",
   "execution_count": null,
   "metadata": {},
   "outputs": [],
   "source": [
    "mkstamp('2018-03-22.10-38-53.605901')"
   ]
  },
  {
   "cell_type": "code",
   "execution_count": null,
   "metadata": {},
   "outputs": [],
   "source": [
    "mkstamp('2018-03-22.07-33-52.1521700432.909473')"
   ]
  },
  {
   "cell_type": "code",
   "execution_count": null,
   "metadata": {},
   "outputs": [],
   "source": [
    "mkstamp('2018-03-22.07-33-52.1521700432.909473')"
   ]
  },
  {
   "cell_type": "code",
   "execution_count": null,
   "metadata": {},
   "outputs": [],
   "source": [
    "batch_size = 4096\n",
    "for idx in range(0, len(paths), batch_size):\n",
    "    FULL_QUERY = ''\n",
    "    for path in paths[idx:idx+batch_size]:\n",
    "        ts = mkstamp(path[path.find('hasface-') + len('hasface-'):-5])\n",
    "\n",
    "        SINGLE_SQL_QUERY_STRING =\\\n",
    "        'INSERT INTO PHOTO(PATH, TIMESTAMP) VALUES(\"%s\", %d); '\\\n",
    "        %(path[:-1], ts)\n",
    "        FULL_QUERY += SINGLE_SQL_QUERY_STRING\n",
    "    send_query(FULL_QUERY)\n",
    "    print('[%5d : %5d]'%(min(idx+batch_size, len(paths)), len(paths)))"
   ]
  },
  {
   "cell_type": "code",
   "execution_count": null,
   "metadata": {},
   "outputs": [],
   "source": [
    "SINGLE_SQL_QUERY_STRING"
   ]
  },
  {
   "cell_type": "code",
   "execution_count": null,
   "metadata": {},
   "outputs": [],
   "source": [
    "batch_size = 4096\n",
    "for idx in range(0, len(paths), batch_size):\n",
    "    FULL_QUERY = ''\n",
    "    for path in paths[idx:idx+batch_size]:\n",
    "        ts = mkstamp(path[path.find('hasface-') + len('hasface-'):-5])\n",
    "\n",
    "        SINGLE_SQL_QUERY_STRING =\\\n",
    "        'INSERT INTO PHOTO(PATH, TIMESTAMP) VALUES(\"%s\", %d); '\\\n",
    "        %(path[:-1], ts)\n",
    "        FULL_QUERY += SINGLE_SQL_QUERY_STRING\n",
    "    send_query(FULL_QUERY)\n",
    "    print('[%5d : %5d]'%(min(idx+batch_size, len(paths)), len(paths)))"
   ]
  },
  {
   "cell_type": "code",
   "execution_count": null,
   "metadata": {},
   "outputs": [],
   "source": [
    "len(FULL_QUERY)"
   ]
  },
  {
   "cell_type": "code",
   "execution_count": null,
   "metadata": {},
   "outputs": [],
   "source": [
    "send_query(FULL_QUERY)"
   ]
  },
  {
   "cell_type": "code",
   "execution_count": null,
   "metadata": {},
   "outputs": [],
   "source": []
  }
 ],
 "metadata": {
  "kernelspec": {
   "display_name": "Python 3",
   "language": "python",
   "name": "python3"
  },
  "language_info": {
   "codemirror_mode": {
    "name": "ipython",
    "version": 3
   },
   "file_extension": ".py",
   "mimetype": "text/x-python",
   "name": "python",
   "nbconvert_exporter": "python",
   "pygments_lexer": "ipython3",
   "version": "3.5.4"
  }
 },
 "nbformat": 4,
 "nbformat_minor": 2
}
