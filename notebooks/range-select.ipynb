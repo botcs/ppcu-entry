{
 "cells": [
  {
   "cell_type": "code",
   "execution_count": null,
   "metadata": {},
   "outputs": [],
   "source": [
    "from utils import send_query, send_large_query\n",
    "\n",
    "query_result = send_large_query('''\n",
    "    SELECT path, aligned_ID FROM aligned\n",
    "''', verbose=False)"
   ]
  },
  {
   "cell_type": "code",
   "execution_count": null,
   "metadata": {},
   "outputs": [],
   "source": [
    "with open('aligned', 'w') as f:\n",
    "    for q in query_result:\n",
    "        f.write('%s\\t%s\\n'%(q['aligned_ID'], q['path']))"
   ]
  },
  {
   "cell_type": "code",
   "execution_count": null,
   "metadata": {},
   "outputs": [],
   "source": [
    "query_params = {\n",
    "    'name':'Kóta Fülöp',\n",
    "    'minusoffset': 2000,\n",
    "    'plusoffset': 2000,\n",
    "}\n",
    "SQL_QUERY = 'SELECT path, name FROM photo JOIN (SELECT name, timestamp-{minusoffset} as start, timestamp+{plusoffset} as end FROM Mandacsko_log WHERE name = \"{name}\" AND gate = \"Forgóvilla jobb (kintről) BE\") ON photo.timestamp BETWEEN start AND end;'\n",
    "SQL_QUERY = SQL_QUERY.format(**query_params)\n",
    "\n",
    "query_result = send_query(SQL_QUERY)"
   ]
  },
  {
   "cell_type": "code",
   "execution_count": null,
   "metadata": {},
   "outputs": [],
   "source": [
    "from IPython.display import Image\n",
    "\n",
    "query_result = send_query(SQL_QUERY)\n",
    "num_of_query = 10\n",
    "print('Query length: ', len(query_result))\n",
    "#if len(query_result) > num_of_query:\n",
    "for records in query_result:#[::len(query_result)//num_of_query]:\n",
    "    print(records['path'])\n",
    "    img = Image(records['path'])\n",
    "    display(img)\n"
   ]
  },
  {
   "cell_type": "code",
   "execution_count": null,
   "metadata": {},
   "outputs": [],
   "source": [
    "for q in send_query('SELECT timestamp-1.0 as start, timestamp+1.0 as end FROM Mandacsko_log WHERE name = \"Hakkel Tamás\"'):\n",
    "    print(datetime.fromtimestamp(float(q['start'])/1000).strftime('%m/%d/%Y %H:%M:%S'))"
   ]
  },
  {
   "cell_type": "code",
   "execution_count": null,
   "metadata": {},
   "outputs": [],
   "source": [
    "len(send_query('SELECT path FROM photo JOIN (SELECT timestamp-3000 as start, timestamp+3000 as end FROM registration_log) ON photo.timestamp BETWEEN start AND end;'))"
   ]
  },
  {
   "cell_type": "code",
   "execution_count": null,
   "metadata": {},
   "outputs": [],
   "source": [
    "names = send_query('SELECT DISTINCT name FROM Mandacsko_log')"
   ]
  },
  {
   "cell_type": "code",
   "execution_count": null,
   "metadata": {},
   "outputs": [],
   "source": [
    "query_params = {\n",
    "    'minusoffset': 2000,\n",
    "    'plusoffset': 2000,\n",
    "    \n",
    "}\n",
    "SQL_QUERY = '''\n",
    "        SELECT name, timestamp-{minusoffset} as start, timestamp+{plusoffset} as end \n",
    "        FROM Mandacsko_log WHERE gate = \"Forgóvilla jobb (kintről) BE\"\n",
    "'''\n",
    "SQL_QUERY = SQL_QUERY.format(**query_params)\n",
    "\n",
    "query_result = send_query(SQL_QUERY)"
   ]
  },
  {
   "cell_type": "code",
   "execution_count": null,
   "metadata": {},
   "outputs": [],
   "source": [
    "torch.permut"
   ]
  },
  {
   "cell_type": "code",
   "execution_count": null,
   "metadata": {},
   "outputs": [],
   "source": [
    "query_params = {\n",
    "    'minusoffset': 2000,\n",
    "    'plusoffset': 2000,\n",
    "}\n",
    "\n",
    "SQL_QUERY = '''\n",
    "    SELECT path, name FROM aligned JOIN (\n",
    "        SELECT name, timestamp-{minusoffset} as start, timestamp+{plusoffset} as end \n",
    "        FROM Mandacsko_log WHERE gate = \"Forgóvilla jobb (kintről) BE\" AND name = \"Hakkel Tamás\") \n",
    "    ON aligned.timestamp BETWEEN start AND end;\n",
    "'''\n",
    "SQL_QUERY = SQL_QUERY.format(**query_params)\n",
    "\n",
    "query_result = send_query(SQL_QUERY)"
   ]
  },
  {
   "cell_type": "code",
   "execution_count": null,
   "metadata": {},
   "outputs": [],
   "source": [
    "query_result"
   ]
  },
  {
   "cell_type": "code",
   "execution_count": null,
   "metadata": {},
   "outputs": [],
   "source": [
    "name_paths_database = {}\n",
    "for q in query_result:\n",
    "    if q['path'].find('stable') == -1 and q['path'].find('5th') == -1:\n",
    "        continue\n",
    "    if name_paths_database.get(q['name']) is None:\n",
    "        name_paths_database[q['name']] = [q['path']]\n",
    "    else:\n",
    "        name_paths_database[q['name']].append(q['path'])"
   ]
  },
  {
   "cell_type": "code",
   "execution_count": null,
   "metadata": {},
   "outputs": [],
   "source": [
    "with open('name_photoPaths_database.csv', 'w') as f:\n",
    "    for k, v in name_paths_database.items():\n",
    "        for i in v:\n",
    "            f.write('%s\\t%s\\n'%(k, i))"
   ]
  },
  {
   "cell_type": "code",
   "execution_count": null,
   "metadata": {},
   "outputs": [],
   "source": [
    "with open('extract_photoPaths_database.csv', 'w') as f:\n",
    "    for k, v in name_paths_database.items():\n",
    "        for i in v:\n",
    "            f.write('%s\\n'%(i))"
   ]
  },
  {
   "cell_type": "code",
   "execution_count": null,
   "metadata": {},
   "outputs": [],
   "source": [
    "print(len(name_paths_database))\n",
    "len(name_paths_database['Hakkel Tamás'])"
   ]
  },
  {
   "cell_type": "code",
   "execution_count": null,
   "metadata": {},
   "outputs": [],
   "source": [
    "import PIL.Image as Image"
   ]
  },
  {
   "cell_type": "code",
   "execution_count": null,
   "metadata": {},
   "outputs": [],
   "source": [
    "query_result[:3]"
   ]
  },
  {
   "cell_type": "code",
   "execution_count": null,
   "metadata": {},
   "outputs": [],
   "source": [
    "import os\n",
    "def addmarkerToPath(path, marker_tag='extracted'):\n",
    "    img_name = os.path.basename(path)\n",
    "    target_path = os.path.join(os.path.dirname(path), marker_tag, img_name)\n",
    "    return target_path"
   ]
  },
  {
   "cell_type": "code",
   "execution_count": null,
   "metadata": {},
   "outputs": [],
   "source": [
    "with open('name_thumbPaths_database.csv', 'w') as f:\n",
    "    for q in query_result:\n",
    "        name = q['name']\n",
    "        path = q['path']\n",
    "        f.write('%s\\t%s\\n'%(name, path))\n",
    "\n",
    "        \n",
    "train_ratio = 0.8\n",
    "with open('name_thumbPaths_train.csv', 'w') as f:\n",
    "    for q in query_result[:int(len(query_result) * train_ratio)]:\n",
    "        name = q['name']\n",
    "        path = q['path']\n",
    "        f.write('%s\\t%s\\n'%(name, path))\n",
    "\n",
    "        \n",
    "with open('name_thumbPaths_test.csv', 'w') as f:\n",
    "    for q in query_result[int(len(query_result) * train_ratio):]:\n",
    "        name = q['name']\n",
    "        path = q['path']\n",
    "        f.write('%s\\t%s\\n'%(name, path))\n"
   ]
  },
  {
   "cell_type": "code",
   "execution_count": null,
   "metadata": {},
   "outputs": [],
   "source": [
    "52000 / 50"
   ]
  },
  {
   "cell_type": "code",
   "execution_count": null,
   "metadata": {},
   "outputs": [],
   "source": []
  },
  {
   "cell_type": "code",
   "execution_count": null,
   "metadata": {},
   "outputs": [],
   "source": [
    "from IPython.display import Image\n",
    "\n",
    "query_params = {\n",
    "    'name':'Koncz Soma',\n",
    "    'minusoffset': 2000,\n",
    "    'plusoffset': 2000,\n",
    "}\n",
    "SQL_QUERY = 'SELECT path, name FROM thumbnail JOIN (SELECT name, timestamp-{minusoffset} as start, timestamp+{plusoffset} as end FROM Mandacsko_log WHERE name = \"{name}\" AND gate = \"Forgóvilla jobb (kintről) BE\") ON thumbnail.timestamp BETWEEN start AND end;'\n",
    "SQL_QUERY = SQL_QUERY.format(**query_params)\n",
    "\n",
    "query_result = send_query(SQL_QUERY)"
   ]
  },
  {
   "cell_type": "code",
   "execution_count": null,
   "metadata": {},
   "outputs": [],
   "source": [
    "\n",
    "numshow = 37\n",
    "print('Query length: ', len(query_result))\n",
    "for records in query_result:#[::len(query_result)//numshow]:\n",
    "    print(records['name'], records['path'])\n",
    "    img = Image.open(records['path'])\n",
    "    display(img)\n"
   ]
  },
  {
   "cell_type": "code",
   "execution_count": null,
   "metadata": {},
   "outputs": [],
   "source": []
  }
 ],
 "metadata": {
  "kernelspec": {
   "display_name": "Python 3",
   "language": "python",
   "name": "python3"
  },
  "language_info": {
   "codemirror_mode": {
    "name": "ipython",
    "version": 3
   },
   "file_extension": ".py",
   "mimetype": "text/x-python",
   "name": "python",
   "nbconvert_exporter": "python",
   "pygments_lexer": "ipython3",
   "version": "3.5.4"
  }
 },
 "nbformat": 4,
 "nbformat_minor": 2
}
