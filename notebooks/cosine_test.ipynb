{
 "cells": [
  {
   "cell_type": "code",
   "execution_count": null,
   "metadata": {},
   "outputs": [],
   "source": [
    "import torch"
   ]
  },
  {
   "cell_type": "code",
   "execution_count": null,
   "metadata": {},
   "outputs": [],
   "source": [
    "cos_loss = torch.nn.CosineEmbeddingLoss(margin=0.5)\n",
    "cos_sim = torch.nn.CosineSimilarity(dim=1)"
   ]
  },
  {
   "cell_type": "code",
   "execution_count": null,
   "metadata": {},
   "outputs": [],
   "source": [
    "def tripletCosineLoss(anchor, positive, negative):\n",
    "    target = torch.autograd.Variable(torch.ones(len(anchor)).cuda())\n",
    "    pos_loss = cos_loss(anchor, positive, target)\n",
    "    neg_loss = cos_loss(anchor, negative, target * -1)\n",
    "    \n",
    "    return pos_loss + neg_loss"
   ]
  },
  {
   "cell_type": "code",
   "execution_count": null,
   "metadata": {},
   "outputs": [],
   "source": [
    "def accuracy(emb_anc, emb_pos, emb_neg, margin=.5):\n",
    "    sim = torch.nn.CosineSimilarity(dim=1)\n",
    "    correct_similarity = (sim(emb_anc, emb_pos) > margin).sum()\n",
    "    correct_dissimilarity = (sim(emb_anc, emb_neg) < margin).sum()\n",
    "    \n",
    "    total_score = correct_similarity + correct_dissimilarity\n",
    "    \n",
    "    return total_score.float() / 2 / len(emb_anc)"
   ]
  },
  {
   "cell_type": "code",
   "execution_count": null,
   "metadata": {},
   "outputs": [],
   "source": [
    "batch_size = 4\n",
    "anchor_embedding = torch.autograd.Variable(torch.randn(batch_size, 128).cuda())\n",
    "positive_embedding = torch.autograd.Variable(torch.randn(batch_size, 128).cuda(), requires_grad=True)\n",
    "negative_embedding = torch.autograd.Variable(torch.randn(batch_size, 128).cuda(), requires_grad=True)"
   ]
  },
  {
   "cell_type": "code",
   "execution_count": null,
   "metadata": {},
   "outputs": [],
   "source": [
    "cos_sim(anchor_embedding, positive_embedding), cos_sim(anchor_embedding, negative_embedding)"
   ]
  },
  {
   "cell_type": "code",
   "execution_count": null,
   "metadata": {},
   "outputs": [],
   "source": [
    "accuracy(anchor_embedding, positive_embedding, negative_embedding)"
   ]
  },
  {
   "cell_type": "code",
   "execution_count": null,
   "metadata": {},
   "outputs": [],
   "source": [
    "opt = torch.optim.Adam([positive_embedding, negative_embedding], lr=0.1)"
   ]
  },
  {
   "cell_type": "code",
   "execution_count": null,
   "metadata": {},
   "outputs": [],
   "source": [
    "loss = tripletCosineLoss(anchor_embedding, positive_embedding, negative_embedding)\n",
    "opt.zero_grad()\n",
    "loss.backward()\n",
    "opt.step()"
   ]
  },
  {
   "cell_type": "code",
   "execution_count": null,
   "metadata": {},
   "outputs": [],
   "source": [
    "cos_sim(anchor_embedding, positive_embedding), cos_sim(anchor_embedding, negative_embedding)"
   ]
  },
  {
   "cell_type": "code",
   "execution_count": null,
   "metadata": {},
   "outputs": [],
   "source": [
    "accuracy(anchor_embedding, positive_embedding, negative_embedding)"
   ]
  },
  {
   "cell_type": "code",
   "execution_count": null,
   "metadata": {},
   "outputs": [],
   "source": [
    "opt.step()\n",
    "cos_sim(anchor_embedding, positive_embedding), cos_sim(anchor_embedding, negative_embedding)"
   ]
  },
  {
   "cell_type": "code",
   "execution_count": null,
   "metadata": {},
   "outputs": [],
   "source": [
    "accuracy(anchor_embedding, positive_embedding, negative_embedding)"
   ]
  },
  {
   "cell_type": "code",
   "execution_count": null,
   "metadata": {},
   "outputs": [],
   "source": [
    "opt.step()\n",
    "opt.step()\n",
    "opt.step()\n",
    "cos_sim(anchor_embedding, positive_embedding), cos_sim(anchor_embedding, negative_embedding)"
   ]
  },
  {
   "cell_type": "code",
   "execution_count": null,
   "metadata": {},
   "outputs": [],
   "source": [
    "accuracy(anchor_embedding, positive_embedding, negative_embedding, margin=0.4)"
   ]
  },
  {
   "cell_type": "code",
   "execution_count": null,
   "metadata": {},
   "outputs": [],
   "source": []
  }
 ],
 "metadata": {
  "kernelspec": {
   "display_name": "Python 3",
   "language": "python",
   "name": "python3"
  },
  "language_info": {
   "codemirror_mode": {
    "name": "ipython",
    "version": 3
   },
   "file_extension": ".py",
   "mimetype": "text/x-python",
   "name": "python",
   "nbconvert_exporter": "python",
   "pygments_lexer": "ipython3",
   "version": "3.5.4"
  }
 },
 "nbformat": 4,
 "nbformat_minor": 2
}
